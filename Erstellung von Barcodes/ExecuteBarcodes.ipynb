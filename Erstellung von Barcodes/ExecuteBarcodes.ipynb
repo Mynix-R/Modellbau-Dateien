{
 "cells": [
  {
   "cell_type": "code",
   "execution_count": 2,
   "metadata": {},
   "outputs": [
    {
     "name": "stdout",
     "output_type": "stream",
     "text": [
      "Das projekt W1 Abschnitt 1 ist Abgeschlossen\n"
     ]
    }
   ],
   "source": [
    "import Barcodes as BC\n",
    "\n",
    "# Die Code-Datei muss im selben Ordner sein wie die CSV!\n",
    "\n",
    "#Name der Unique-Basenumber:\n",
    "BaseNumber='IntBasenumber.txt'\n",
    "#Name der CSV-Datei:\n",
    "NameCSV=\"TestCSV.csv\"\n",
    "#Name des Projekts:\n",
    "ProjektName=\"W1 Abschnitt 1\"\n",
    "\n",
    "\n",
    "BC.Data_to_Barcode(NameCSV,ProjektName,BaseNumber)\n"
   ]
  }
 ],
 "metadata": {
  "kernelspec": {
   "display_name": "Python 3",
   "language": "python",
   "name": "python3"
  },
  "language_info": {
   "codemirror_mode": {
    "name": "ipython",
    "version": 3
   },
   "file_extension": ".py",
   "mimetype": "text/x-python",
   "name": "python",
   "nbconvert_exporter": "python",
   "pygments_lexer": "ipython3",
   "version": "3.11.1"
  },
  "orig_nbformat": 4
 },
 "nbformat": 4,
 "nbformat_minor": 2
}
